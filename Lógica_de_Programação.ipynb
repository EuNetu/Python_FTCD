{
  "nbformat": 4,
  "nbformat_minor": 0,
  "metadata": {
    "colab": {
      "name": "Lógica de Programação.ipynb",
      "provenance": [],
      "authorship_tag": "ABX9TyOiOBRkXksqkuL4HeXbMIEZ",
      "include_colab_link": true
    },
    "kernelspec": {
      "name": "python3",
      "display_name": "Python 3"
    },
    "language_info": {
      "name": "python"
    }
  },
  "cells": [
    {
      "cell_type": "markdown",
      "metadata": {
        "id": "view-in-github",
        "colab_type": "text"
      },
      "source": [
        "<a href=\"https://colab.research.google.com/github/EuNetu/Python_FTCD/blob/main/L%C3%B3gica_de_Programa%C3%A7%C3%A3o.ipynb\" target=\"_parent\"><img src=\"https://colab.research.google.com/assets/colab-badge.svg\" alt=\"Open In Colab\"/></a>"
      ]
    },
    {
      "cell_type": "markdown",
      "metadata": {
        "id": "vHh_dARcPaq6"
      },
      "source": [
        "# **Variáveis**"
      ]
    },
    {
      "cell_type": "markdown",
      "metadata": {
        "id": "mgQbAwZbU0Vr"
      },
      "source": [
        "Como criar e receber um valor para variável:"
      ]
    },
    {
      "cell_type": "code",
      "metadata": {
        "colab": {
          "base_uri": "https://localhost:8080/"
        },
        "id": "-cprSF49PkHD",
        "outputId": "85e23c6d-2b67-4787-88bf-a05cab7ac6a7"
      },
      "source": [
        "name = input('Qual seu nome? ')\n",
        "age = 20\n",
        "height = 1.73\n",
        "\n",
        "print(f'meu nome é: {name} \\nTenho: {age} anos \\nMinha altura é: {height}m')"
      ],
      "execution_count": 94,
      "outputs": [
        {
          "output_type": "stream",
          "name": "stdout",
          "text": [
            "Qual seu nome? Neto\n",
            "meu nome é: Neto \n",
            "Tenho: 20 anos \n",
            "Minha altura é: 1.73m\n"
          ]
        }
      ]
    },
    {
      "cell_type": "markdown",
      "metadata": {
        "id": "B1JfwZ2nYJ2R"
      },
      "source": [
        "#  **Operadores**"
      ]
    },
    {
      "cell_type": "code",
      "metadata": {
        "id": "IJw6qk1zYgpJ"
      },
      "source": [
        "Operador |\tDescrição\n",
        "a == b\t | a igual a b\n",
        "a != b\t | a diferente de b\n",
        "a < b\t   | a menor do que b\n",
        "a > b\t   | a maior do que b\n",
        "a <= b   | a menor ou igual a b\n",
        "a >= b   | a maior ou igual a b\n"
      ],
      "execution_count": null,
      "outputs": []
    },
    {
      "cell_type": "markdown",
      "metadata": {
        "id": "aBloAMpATCK5"
      },
      "source": [
        "# **Condicional**"
      ]
    },
    {
      "cell_type": "markdown",
      "metadata": {
        "id": "yTii-LlWVIZy"
      },
      "source": [
        "Criar um condicional e mudar o tipo do valor que recebe:"
      ]
    },
    {
      "cell_type": "code",
      "metadata": {
        "colab": {
          "base_uri": "https://localhost:8080/"
        },
        "id": "--dlh368TInO",
        "outputId": "e9a959c2-e914-4466-e92e-a2627490aa8b"
      },
      "source": [
        "age = int(input('Qual sua idade?? '))\n",
        "if age >= 18:\n",
        "  print('Maior de idade')\n",
        "else:\n",
        "  print('Menor de idade')"
      ],
      "execution_count": 50,
      "outputs": [
        {
          "output_type": "stream",
          "name": "stdout",
          "text": [
            "Qual sua idade?? 20\n",
            "Maior de idade\n"
          ]
        }
      ]
    },
    {
      "cell_type": "markdown",
      "metadata": {
        "id": "FtbD8pBxNhVL"
      },
      "source": [
        "# **Função**"
      ]
    },
    {
      "cell_type": "markdown",
      "metadata": {
        "id": "qNwGHka6Qpur"
      },
      "source": [
        "Fazer uma saudação:"
      ]
    },
    {
      "cell_type": "code",
      "metadata": {
        "id": "DjEbaGepK2Xc"
      },
      "source": [
        "def salutation():\n",
        "  name = input('Qual seu nome? ')\n",
        "  print(f\"Olá {name}\")"
      ],
      "execution_count": 32,
      "outputs": []
    },
    {
      "cell_type": "code",
      "metadata": {
        "colab": {
          "base_uri": "https://localhost:8080/"
        },
        "id": "iooro1T8Nlfk",
        "outputId": "fb0120fb-3abd-40b8-d338-3175565f2d63"
      },
      "source": [
        "salutation()"
      ],
      "execution_count": 34,
      "outputs": [
        {
          "output_type": "stream",
          "name": "stdout",
          "text": [
            "Qual seu nome? Euclides\n",
            "Olá Euclides\n"
          ]
        }
      ]
    },
    {
      "cell_type": "markdown",
      "metadata": {
        "id": "P0XrG50UQwC6"
      },
      "source": [
        "Fazer um nome completo(passando por parâmetro):"
      ]
    },
    {
      "cell_type": "code",
      "metadata": {
        "id": "H_K4fbDHP6VJ"
      },
      "source": [
        "def full_Name(resposta):\n",
        " first_Name = resposta\n",
        " last_Name = input('Qual seu sobrenome? ')\n",
        " full_Name = first_Name + ' ' + last_Name\n",
        " print(full_Name)"
      ],
      "execution_count": 38,
      "outputs": []
    },
    {
      "cell_type": "code",
      "metadata": {
        "colab": {
          "base_uri": "https://localhost:8080/"
        },
        "id": "suKMU8GGSOky",
        "outputId": "ee0aabc6-d7ae-4ec6-bb3c-1f16827b7de9"
      },
      "source": [
        "full_Name(input('Qual o seu primeiro nome??'))"
      ],
      "execution_count": 51,
      "outputs": [
        {
          "output_type": "stream",
          "name": "stdout",
          "text": [
            "Qual o seu primeiro nome??Euclides\n",
            "Qual seu sobrenome? Neto\n",
            "Euclides Neto\n"
          ]
        }
      ]
    },
    {
      "cell_type": "markdown",
      "metadata": {
        "id": "0IQtt--OY1y8"
      },
      "source": [
        "# **Lista**"
      ]
    },
    {
      "cell_type": "markdown",
      "metadata": {
        "id": "h1ygXv6VZuEI"
      },
      "source": [
        "Criar uma lista:"
      ]
    },
    {
      "cell_type": "code",
      "metadata": {
        "id": "UOYyoKmBY7rk"
      },
      "source": [
        "fruits = ['banana', 'abacaxi', 'uva', 'laranja']"
      ],
      "execution_count": 98,
      "outputs": []
    },
    {
      "cell_type": "markdown",
      "metadata": {
        "id": "Zs63WzW2ZxVV"
      },
      "source": [
        "Formas de mostrar a lista:"
      ]
    },
    {
      "cell_type": "code",
      "metadata": {
        "colab": {
          "base_uri": "https://localhost:8080/"
        },
        "id": "w_plc6rvZ6V6",
        "outputId": "07db0180-bbec-4384-fefd-1dfa75e8f4a2"
      },
      "source": [
        "fruits[0:2] #O ponto de parada é sempre um maior que o índice"
      ],
      "execution_count": 56,
      "outputs": [
        {
          "output_type": "execute_result",
          "data": {
            "text/plain": [
              "['banana', 'abacaxi']"
            ]
          },
          "metadata": {},
          "execution_count": 56
        }
      ]
    },
    {
      "cell_type": "code",
      "metadata": {
        "colab": {
          "base_uri": "https://localhost:8080/"
        },
        "id": "U-Prij9_aAer",
        "outputId": "6c4bc8cb-b65d-433f-eea6-7029dc2a42aa"
      },
      "source": [
        "fruits[2:] #Do segundo índice até o final"
      ],
      "execution_count": 57,
      "outputs": [
        {
          "output_type": "execute_result",
          "data": {
            "text/plain": [
              "['uva', 'laranja']"
            ]
          },
          "metadata": {},
          "execution_count": 57
        }
      ]
    },
    {
      "cell_type": "code",
      "metadata": {
        "colab": {
          "base_uri": "https://localhost:8080/",
          "height": 35
        },
        "id": "AwGyA_rUbSMa",
        "outputId": "1b3db2b6-c6a3-4769-d2bc-67c042ed8722"
      },
      "source": [
        "fruits[-1] #último índece"
      ],
      "execution_count": 99,
      "outputs": [
        {
          "output_type": "execute_result",
          "data": {
            "application/vnd.google.colaboratory.intrinsic+json": {
              "type": "string"
            },
            "text/plain": [
              "'laranja'"
            ]
          },
          "metadata": {},
          "execution_count": 99
        }
      ]
    },
    {
      "cell_type": "markdown",
      "metadata": {
        "id": "JAXvvm4ldglE"
      },
      "source": [
        "# **Laço de Retição**"
      ]
    },
    {
      "cell_type": "code",
      "metadata": {
        "colab": {
          "base_uri": "https://localhost:8080/"
        },
        "id": "XasProlger4U",
        "outputId": "a9a94e46-4a84-4aa7-fd19-7712a3fe2ad5"
      },
      "source": [
        "for i in fruits:\n",
        "  print(i)"
      ],
      "execution_count": 100,
      "outputs": [
        {
          "output_type": "stream",
          "name": "stdout",
          "text": [
            "banana\n",
            "abacaxi\n",
            "uva\n",
            "laranja\n"
          ]
        }
      ]
    },
    {
      "cell_type": "code",
      "metadata": {
        "id": "8hfsFgOedlmJ"
      },
      "source": [
        "def check_Banana(lista):\n",
        "  flag = 0\n",
        "  for i in lista:\n",
        "    if i == 'banana':\n",
        "      flag = 1;\n",
        "  if flag == 1:\n",
        "    print('Tem banana')\n",
        "  else:\n",
        "    print('Não tem banana')\n"
      ],
      "execution_count": 87,
      "outputs": []
    },
    {
      "cell_type": "code",
      "metadata": {
        "colab": {
          "base_uri": "https://localhost:8080/"
        },
        "id": "x3opj-wygAZD",
        "outputId": "79ad2ebc-5930-4932-f97f-d73444f7a705"
      },
      "source": [
        "check_Banana(fruits)"
      ],
      "execution_count": 88,
      "outputs": [
        {
          "output_type": "stream",
          "name": "stdout",
          "text": [
            "Tem banana\n"
          ]
        }
      ]
    },
    {
      "cell_type": "markdown",
      "metadata": {
        "id": "x_bVchExviKs"
      },
      "source": [
        "# **Utilizando bibliotecas externas**"
      ]
    },
    {
      "cell_type": "code",
      "metadata": {
        "id": "avCgEZ7Pvszq"
      },
      "source": [
        "from random import randrange"
      ],
      "execution_count": 95,
      "outputs": []
    },
    {
      "cell_type": "code",
      "metadata": {
        "colab": {
          "base_uri": "https://localhost:8080/"
        },
        "id": "tpjR-SyjwS6V",
        "outputId": "4b55b5be-d1cb-41ff-cf5d-083e2f2be1b7"
      },
      "source": [
        "random = []\n",
        "for i in range(10):\n",
        "    random.append(randrange(1,11))\n",
        "random"
      ],
      "execution_count": 117,
      "outputs": [
        {
          "output_type": "execute_result",
          "data": {
            "text/plain": [
              "[5, 5, 8, 7, 7, 2, 3, 10, 7, 8]"
            ]
          },
          "metadata": {},
          "execution_count": 117
        }
      ]
    },
    {
      "cell_type": "markdown",
      "metadata": {
        "id": "3JcWmkiC0l2L"
      },
      "source": [
        "# **Matplotlib**"
      ]
    },
    {
      "cell_type": "code",
      "metadata": {
        "id": "gJHTnZzD0sHa"
      },
      "source": [
        "import matplotlib.pyplot as plt"
      ],
      "execution_count": 127,
      "outputs": []
    },
    {
      "cell_type": "code",
      "metadata": {
        "colab": {
          "base_uri": "https://localhost:8080/",
          "height": 295
        },
        "id": "aXQaTLD_4Vjb",
        "outputId": "2df17b86-17c4-4b26-d45e-def1669ae02c"
      },
      "source": [
        "data_Science_Grades = []\n",
        "for i in range(1,9):\n",
        "  data_Science_Grades.append(randrange(1,11))\n",
        "\n",
        "x = list(range(1, 9))\n",
        "y = data_Science_Grades\n",
        "plt.plot(x, y, marker='o')\n",
        "plt.title('Notas de FUNDAMENTOS E TÉCNICAS EM CIÊNCIA DE DADOS')\n",
        "plt.xlabel('Provas')\n",
        "plt.ylabel('Notas')\n",
        "plt.show()"
      ],
      "execution_count": 159,
      "outputs": [
        {
          "output_type": "display_data",
          "data": {
            "image/png": "[encoded data removed]",
            "text/plain": [
              "<Figure size 432x288 with 1 Axes>"
            ]
          },
          "metadata": {
            "needs_background": "light"
          }
        }
      ]
    },
    {
      "cell_type": "markdown",
      "metadata": {
        "id": "0EBTX0oQN_9e"
      },
      "source": [
        "# Numpy"
      ]
    },
    {
      "cell_type": "code",
      "metadata": {
        "id": "UJS7r4t0ODyl"
      },
      "source": [
        ""
      ],
      "execution_count": null,
      "outputs": []
    }
  ]
}